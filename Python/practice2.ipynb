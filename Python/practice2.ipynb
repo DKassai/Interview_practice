{
 "cells": [
  {
   "cell_type": "code",
   "execution_count": 3,
   "metadata": {},
   "outputs": [
    {
     "name": "stdout",
     "output_type": "stream",
     "text": [
      "{'chicago': {'food': {'bacon': 2, 'peppers': 1}, 'clothing': {'shoes': 1}}, 'miami': {'clothing': {'shoes': 2}, 'food': {'bread': 3}}, 'atlanta': {'food': {'peppers': 1}, 'electronics': {'camera': 1}}}\n"
     ]
    }
   ],
   "source": [
    "info = [\"chicago,food,bacon\",\n",
    "\"miami,clothing,shoes\",\n",
    "\"miami,food,bread\",\n",
    "\"chicago,clothing,shoes\",\n",
    "\"atlanta,food,peppers\",\n",
    "\"miami,food,bread\",\n",
    "\"chicago,food,bacon\",\n",
    "\"atlanta,electronics,camera\",\n",
    "\"miami,clothing,shoes\",\n",
    "\"chicago,food,peppers\",\n",
    "\"miami,food,bread\"]\n",
    "\n",
    "city = {} \n",
    "for i in info:\n",
    "    city_info = i.split(\",\")\n",
    "    if city_info[0] not in city:\n",
    "        city[city_info[0]] = {} \n",
    "    if city_info[1] not in city[city_info[0]]:\n",
    "        city[city_info[0]][city_info[1]] = {}\n",
    "    if city_info[2] not in city[city_info[0]][city_info[1]]:\n",
    "        city[city_info[0]][city_info[1]][city_info[2]]=0\n",
    "    city[city_info[0]][city_info[1]][city_info[2]]+=1\n",
    "print(city)\n",
    "        \n",
    "\n",
    "\n",
    "\n"
   ]
  },
  {
   "cell_type": "code",
   "execution_count": 8,
   "metadata": {},
   "outputs": [
    {
     "name": "stdout",
     "output_type": "stream",
     "text": [
      "p u z z l e puzzle\n"
     ]
    }
   ],
   "source": [
    "class TreeNode:\n",
    "    def __init__(self, val=0, left=None, right=None):\n",
    "        self.val = val\n",
    "        self.left = left\n",
    "        self.right = right\n",
    "\n",
    "def buildTree(s: str) -> TreeNode:\n",
    "    if not s:\n",
    "        return None\n",
    "\n",
    "    mid = len(s) // 2\n",
    "    root = TreeNode(s[mid])\n",
    "    root.left = buildTree(s[:mid])\n",
    "    root.right = buildTree(s[mid + 1:])\n",
    "    \n",
    "    return root\n",
    "\n",
    "def treeToString(root: TreeNode) -> str:\n",
    "    if not root:\n",
    "        return \"\"\n",
    "    \n",
    "    return treeToString(root.left) + root.val + treeToString(root.right)\n",
    "\n",
    "def printInOrder(root):\n",
    "    if root:\n",
    "        printInOrder(root.left)\n",
    "        print(root.val, end=' ')\n",
    "        printInOrder(root.right)\n",
    "# Example usage\n",
    "s = \"puzzle\"\n",
    "tree = buildTree(s)\n",
    "printInOrder(tree)\n",
    "result = treeToString(tree)\n",
    "print(result)  # Output should be \"abcdefg\""
   ]
  },
  {
   "cell_type": "code",
   "execution_count": null,
   "metadata": {},
   "outputs": [],
   "source": []
  }
 ],
 "metadata": {
  "kernelspec": {
   "display_name": "base",
   "language": "python",
   "name": "python3"
  },
  "language_info": {
   "codemirror_mode": {
    "name": "ipython",
    "version": 3
   },
   "file_extension": ".py",
   "mimetype": "text/x-python",
   "name": "python",
   "nbconvert_exporter": "python",
   "pygments_lexer": "ipython3",
   "version": "3.11.5"
  }
 },
 "nbformat": 4,
 "nbformat_minor": 2
}
