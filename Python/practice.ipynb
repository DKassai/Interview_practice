{
 "cells": [
  {
   "cell_type": "code",
   "execution_count": null,
   "metadata": {},
   "outputs": [],
   "source": [
    "import random"
   ]
  },
  {
   "cell_type": "code",
   "execution_count": null,
   "metadata": {},
   "outputs": [],
   "source": []
  },
  {
   "cell_type": "code",
   "execution_count": null,
   "metadata": {},
   "outputs": [],
   "source": [
    "list1 = [1, 2, 3, 4, 5, 6, 7, 8, 9, 10]\n",
    "list2 = [5, 6, 7, 8, 9, 10, 11, 12, 13, 14]\n",
    "\n",
    "print(list1)\n",
    "print(list2)"
   ]
  },
  {
   "cell_type": "code",
   "execution_count": null,
   "metadata": {},
   "outputs": [],
   "source": [
    "def array_intesetction(arr1, arr2):\n",
    "    set1 = set(arr1)\n",
    "    set2 = set(arr2)\n",
    "    intersection = set1 & set2\n",
    "    return sorted(list(intersection))\n",
    "\n",
    "array_intesetction(list1, list2)"
   ]
  },
  {
   "cell_type": "code",
   "execution_count": null,
   "metadata": {},
   "outputs": [],
   "source": [
    "def non_repreating_elemets(nums):\n",
    "    seen, repeated = set(), set()\n",
    "    for num in nums:\n",
    "        if num in seen:\n",
    "            repeated.add(num)\n",
    "        else:\n",
    "            seen.add(num)\n",
    "    print(repeated)\n",
    "    print(seen)\n",
    "    return list(seen-repeated)\n",
    "\n",
    "non_repreating_elemets(list1)\n"
   ]
  },
  {
   "cell_type": "code",
   "execution_count": null,
   "metadata": {},
   "outputs": [],
   "source": [
    "def get_unique_elemets(arr1, arr2):\n",
    "    set1 = set(arr1)\n",
    "    set2 = set(arr2)\n",
    "    unique_to_1 = sorted(list(set1 - set2))\n",
    "    unique_to_2 = sorted(list(set2 - set1))\n",
    "    return( unique_to_1, unique_to_2)\n",
    "\n",
    "get_unique_elemets(list1, list2)\n"
   ]
  },
  {
   "cell_type": "code",
   "execution_count": null,
   "metadata": {},
   "outputs": [],
   "source": [
    "s1 = \"aabcc\"\n",
    "s2 = \"adcaa\"\n",
    "\n",
    "com = []\n",
    "for i in set(s1):\n",
    "    count_s1 = s1.count(i)\n",
    "    count_s2 = s2.count(i)\n",
    "    common_count = min(count_s1, count_s2)\n",
    "    com.append(common_count)\n",
    "    print(f\"Character: {i}, Count in s1: {count_s1}, Count in s2: {count_s2}, Common Count: {common_count}\")\n",
    "\n",
    "print(com)"
   ]
  },
  {
   "cell_type": "code",
   "execution_count": null,
   "metadata": {},
   "outputs": [],
   "source": [
    "array = [1, 2, 3, 4, 5, 6, 7, 8, 9, 10, 11, 12, 13, 14, 15, 16, 17, 18, 19, 20]\n",
    "\n",
    "def bin_search(array,target):\n",
    "    low= 0\n",
    "    high= len(array)\n",
    "    while(low<=high):\n",
    "        mid = (low+high)//2\n",
    "        if(target==array[mid]):\n",
    "            return mid\n",
    "        if(target<array[mid]):\n",
    "            high = mid -1 \n",
    "        else:\n",
    "            low = mid+1\n",
    "    return 0 \n",
    "val = bin_search(array,100)\n",
    "print(val)"
   ]
  },
  {
   "cell_type": "code",
   "execution_count": null,
   "metadata": {},
   "outputs": [],
   "source": [
    "array = [1, 2, 3, 4, 5, 6, 7, 8, 9, 10, 11, 12, 13, 14, 15, 16, 17, 18, 19, 20]\n",
    "def rBinSearch(array, key, low, high):\n",
    "    if low>high:\n",
    "        return -1\n",
    "\n",
    "    mid = (low+high)//2\n",
    "    if array[mid]==key:\n",
    "        return mid\n",
    "    elif array[mid]<key:\n",
    "        return rBinSearch(array,key,mid+1,high)\n",
    "    else:\n",
    "        return rBinSearch(array,key,low,mid-1)\n",
    "    \n",
    "key = 9\n",
    "result = rBinSearch(array,key,0,len(array)-1)\n",
    "if result != -1:\n",
    "    print(f\"Target {key} found at index {result}.\")\n",
    "else:\n",
    "    print(\"Target not found.\")"
   ]
  },
  {
   "cell_type": "code",
   "execution_count": null,
   "metadata": {},
   "outputs": [],
   "source": [
    "def heapify(arr,n , i):\n",
    "    largest = i\n",
    "    print('this is n' + str(n))\n",
    "    l = 2 * i + 1\n",
    "    r = 2 * i + 2\n",
    "    if l < n and arr[largest]< arr[l]:\n",
    "        largest = l\n",
    "    if r < n and arr[largest]<arr[r]:\n",
    "        largest = r\n",
    "    \n",
    "    if largest!=i:\n",
    "        print(largest,i)\n",
    "        arr[i],arr[largest] = arr[largest], arr[i]\n",
    "        heapify(arr,n,largest)\n",
    "   \n",
    "    \n",
    "def heapsort(arr):\n",
    "    n = len(arr)\n",
    "    for i in range(n//2-1,-1,-1):\n",
    "        heapify(arr,n,i)\n",
    "  \n",
    "    for i in range(n-1,0,-1):\n",
    "        arr[i], arr[0] = arr[0],arr[i]\n",
    "        heapify(arr,i,0)\n",
    "        print(arr)\n",
    "\n",
    "arr = [12, 11, 13, 5, 6, 7]\n",
    "heapsort(arr)\n",
    "print(arr)"
   ]
  },
  {
   "cell_type": "code",
   "execution_count": null,
   "metadata": {},
   "outputs": [],
   "source": [
    "def mergeSort(arr):\n",
    "    if len(arr)<=1:\n",
    "        return arr\n",
    "    mid = len(arr)//2\n",
    "    L = arr[:mid]\n",
    "    R = arr[mid:]\n",
    "    print(L,R)\n",
    "    L = mergeSort(L)\n",
    "    R = mergeSort(R)\n",
    "    return merge(L, R)\n",
    "\n",
    "def merge(L,R):\n",
    "    result = []\n",
    "    i = j = 0\n",
    "    while i<len(L) and j < len(R):\n",
    "        if L[i] < R[j]:\n",
    "            result.append(L[i])\n",
    "            i+=1\n",
    "        else:\n",
    "            result.append(R[j])\n",
    "            j+=1\n",
    "    result.extend(L[i:])\n",
    "    result.extend(R[j:])\n",
    "\n",
    "    return result\n",
    "\n",
    "arr =[6, 13, 11, 7, 5, 12]\n",
    "print(mergeSort(arr))   "
   ]
  },
  {
   "cell_type": "code",
   "execution_count": 7,
   "metadata": {},
   "outputs": [
    {
     "name": "stdout",
     "output_type": "stream",
     "text": [
      "[5]\n",
      "[13, 11, 7, 12]\n",
      "[11, 7, 12]\n",
      "[]\n",
      "[7]\n",
      "[12]\n",
      "[5, 6, 7, 11, 12, 13]\n"
     ]
    }
   ],
   "source": [
    "def quickSort(arr):\n",
    "    if len(arr)<=1:\n",
    "        return arr\n",
    "    else:\n",
    "        pivot = arr[0]\n",
    "        less = [x for x in arr[1:]if x <= pivot]\n",
    "        greater = [x for x in arr[1:]if x> pivot]\n",
    "        print(less)\n",
    "        print(greater)\n",
    "        return quickSort(less) + [pivot] + quickSort(greater)\n",
    "\n",
    "arr = [6, 13, 11, 7, 5, 12]\n",
    "print(quickSort(arr))"
   ]
  }
 ],
 "metadata": {
  "kernelspec": {
   "display_name": "Python 3",
   "language": "python",
   "name": "python3"
  },
  "language_info": {
   "codemirror_mode": {
    "name": "ipython",
    "version": 3
   },
   "file_extension": ".py",
   "mimetype": "text/x-python",
   "name": "python",
   "nbconvert_exporter": "python",
   "pygments_lexer": "ipython3",
   "version": "3.11.5"
  }
 },
 "nbformat": 4,
 "nbformat_minor": 2
}
